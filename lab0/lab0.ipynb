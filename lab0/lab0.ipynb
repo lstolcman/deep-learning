{
 "cells": [
  {
   "cell_type": "markdown",
   "metadata": {},
   "source": [
    "# 1. Creating a set of 2D data points\n",
    "\n",
    "In the first exercise we will modify the data module to include the class `Random2DGaussian` which will enable us to sample random 2D data by using Gaussian random distribution. The class constructor should create parameters of a bivariate Gaussian random distribution (vector `μ` and matrix `Σ`). The `methodget_sample(n)` should return `n` randomly sampled 2D data points represented as a numpy matrix with dimensions `Nx2`. Distribution variance and the allowed range of values should be fixed.\n"
   ]
  },
  {
   "cell_type": "code",
   "execution_count": 342,
   "metadata": {
    "collapsed": true
   },
   "outputs": [],
   "source": [
    "import numpy as np\n",
    "import matplotlib.pyplot as plt\n",
    "import random"
   ]
  },
  {
   "cell_type": "markdown",
   "metadata": {},
   "source": [
    "## Steps:\n",
    "\n",
    "- Define the allowed range of values for both dimensions (e.g. `minx=0, maxx=10, miny=0, maxy=10`); and store them as class parameters.\n",
    "- Randomly select the distribution mean mi using a uniform distribution (`np.random.random_sample`).\n",
    "- Randomly select the eigenvalues of the covariance matrix `Σ` using uniform distribution and store them into a diagonal matrix `D`. Have the limits on allowed range of the eigenvalues depend on the allowed range of mean values `μ`, e.g.:\n",
    "  \n",
    "  `eigvalx = (np.random.random_sample()*(maxx - minx)/5)**2`\n",
    "  \n",
    "  \n",
    "- Randomly select an angle of rotation of the covariation matrix and using that angle define a rotation matrix `R=[cos(φ) −sin(φ); sin(φ) cos(φ)]`.\n",
    "- The covariance matrix `Σ` is the dot product of the transposed matrix `R`, matrix `D` and matrix `R`\n",
    "- To sample data use the function `np.random.multivariate_normal`.\n",
    "- To have your experiment be repeatable, use a fixed seed for the `numpy` random generator:\n"
   ]
  },
  {
   "cell_type": "code",
   "execution_count": 343,
   "metadata": {
    "collapsed": true
   },
   "outputs": [],
   "source": [
    "np.random.seed(100)"
   ]
  },
  {
   "cell_type": "code",
   "execution_count": 344,
   "metadata": {
    "collapsed": true
   },
   "outputs": [],
   "source": [
    "class Random2DGaussian():\n",
    "    def __init__(self):\n",
    "        # [ [minx, maxx], [miny, maxy] ]\n",
    "        xy = np.array([[0, 10], [0, 10]])\n",
    "\n",
    "        self.mean = [xy[i][0]+np.random.random_sample()*(xy[i][1]-xy[i][0]) for i in range(2)]\n",
    "        D = np.diag((np.random.random_sample(2)*(xy[0][1]-xy[0][0], xy[1][1]-xy[1][0]))**2)\n",
    "        angle = np.random.random_sample()*2*np.pi\n",
    "        R = np.array([[np.cos(angle), -np.sin(angle)], [np.sin(angle), np.cos(angle)]])\n",
    "        self.sigma = np.dot(np.dot(np.transpose(R), D), R)\n",
    "    \n",
    "    def get_sample(self, n):\n",
    "        return np.random.multivariate_normal(self.mean, self.sigma, n)\n"
   ]
  },
  {
   "cell_type": "markdown",
   "metadata": {},
   "source": [
    "Use the following code to test your implementation: "
   ]
  },
  {
   "cell_type": "code",
   "execution_count": 345,
   "metadata": {},
   "outputs": [
    {
     "data": {
      "image/png": "[encoded data removed]",
      "text/plain": [
       "<matplotlib.figure.Figure at 0x1395d630>"
      ]
     },
     "metadata": {},
     "output_type": "display_data"
    }
   ],
   "source": [
    "np.random.seed(100)\n",
    "G = Random2DGaussian()\n",
    "X = G.get_sample(100)\n",
    "plt.scatter(X[:,0], X[:,1])\n",
    "plt.show()"
   ]
  },
  {
   "cell_type": "markdown",
   "metadata": {},
   "source": [
    "# 2. Learning binary logistic regression using gradient descent\n",
    "\n",
    "Implemet a method `binlogreg_train` which takes in a training set and learns the parameters *w* and *b* of binary logistic regression. Use the names:\n",
    "\n",
    " - `X`: the matrix containing the training set, it has the dimensions of `NxD`\n",
    " - `Y_`: the vector containing the true classes for the training examples, it has the dimensions `Nx1` (to be used during training)\n",
    " - `Y`: the vector of predicted classes for the training examples, it has the dimensions `Nx1` (to be used during evaluation) \n",
    "\n",
    "\n",
    "Have the function have the following interface:\n",
    "\n",
    "```python\n",
    "def binlogreg_train(X,Y_):\n",
    "    '''\n",
    "    Arguments\n",
    "        X:  data, np.array NxD\n",
    "        Y_: class indices, np.array Nx1\n",
    "    Return values\n",
    "        w, b: parameters of binary logistic regression\n",
    "    '''\n",
    "```\n",
    "Steps:\n",
    "- Initialize w using normal distribution `N(0,1)` (`np.random.randn`) and have *b* be 0\n",
    "- Start the gradient descent loop. Let the number of iterations `param_niter` be a training hyperparameter:\n",
    " - calculate classification scores for the entire training set using numpy operations (`scores = np.dot(X, w) + b`).\n",
    " - calculate a posteriori probabilities for each class and for every training example `P(c_1|X)` using numpy operations\n",
    " - calculate the total loss `L(w,b)` using `numpy` operations\n",
    " - calculate the gradients `grad_w` and `rad_b` using `numpy` operations\n",
    " - modify the parameters `w` and `b` by moving them into the direction of the negative loss gradient, have `param_delta` be a training hyperparameter "
   ]
  },
  {
   "cell_type": "code",
   "execution_count": 346,
   "metadata": {},
   "outputs": [
    {
     "data": {
      "image/png": "[encoded data removed]",
      "text/plain": [
       "<matplotlib.figure.Figure at 0x13a47f28>"
      ]
     },
     "metadata": {},
     "output_type": "display_data"
    },
    {
     "name": "stdout",
     "output_type": "stream",
     "text": [
      "iteration 0: loss 0.26804156082423386\n",
      "iteration 100: loss 0.05352448017924047\n",
      "iteration 200: loss 0.030376295485284834\n",
      "iteration 300: loss 0.021095686207793285\n",
      "iteration 400: loss 0.016123670926269665\n",
      "iteration 500: loss 0.013034284415074808\n",
      "iteration 600: loss 0.010931821045853074\n",
      "iteration 700: loss 0.009409932059316685\n",
      "iteration 800: loss 0.008258004177648668\n",
      "iteration 900: loss 0.0073561198389393385\n",
      "iteration 1000: loss 0.006631043217828252\n",
      "w [-4.53745432  4.38862332]\n",
      "b -3.524175013076153\n",
      "h [ -3.821837    -3.97066799 -17.28536896 -13.04557663   9.34403297\n",
      "  18.12127962   4.80657866   9.19520198   4.50891667]\n",
      "sigma [9.78581248e-01 9.81488316e-01 9.99999969e-01 9.99997840e-01\n",
      " 8.74782422e-05 1.34905063e-08 8.10948269e-03 1.01515049e-04\n",
      " 1.08904733e-02]\n",
      "[0 0 0 0 1 1 1 1 1]\n"
     ]
    }
   ],
   "source": [
    "import sklearn.metrics\n",
    "\n",
    "def binlogreg_train(X,Y_, param_niter=1000, param_delta=0.1):\n",
    "    '''\n",
    "    Arguments\n",
    "        X:  data, np.array NxD\n",
    "        Y_: class indices, np.array Nx1\n",
    "    Return values\n",
    "        w, b: parameters of binary logistic regression\n",
    "    '''\n",
    "    param_niter += 1 # to print last error\n",
    "    w = np.random.randn(X.shape[1]) # weights == == columns == number of features\n",
    "    b = 0.0\n",
    "    # gradient descent (param_niter iteratons)\n",
    "    for i in range(param_niter):\n",
    "        # classification scores\n",
    "        scores = np.dot(X, w)+b\n",
    "\n",
    "        #P(Y=c_1|x)=σ(w⊤x+b), where σ(s)=exp(s)/(1+exp(s))\n",
    "        probs = np.exp(scores)/(1.0+np.exp(scores)) # N x 1\n",
    "        #probs = 1/(1+np.exp(-scores))\n",
    "        \n",
    "        # loss\n",
    "        loss = sklearn.metrics.log_loss(Y_, probs)# scalar\n",
    "        # trace\n",
    "        if i % int(param_niter/10) == 0:\n",
    "            print(\"iteration {}: loss {}\".format(i, loss))\n",
    "        \n",
    "        # derivative of the loss funciton with respect to classification scores\n",
    "        dL_dscores = probs - Y_ # N x 1\n",
    "\n",
    "        # gradijents with respect to parameters\n",
    "        grad_w = 1/(X.shape[1]) * np.dot(dL_dscores, X) # D x 1\n",
    "        grad_b = 1/(X.shape[1]) * np.sum(dL_dscores) # 1 x 1\n",
    "\n",
    "        # modifying the parameters\n",
    "        w += -param_delta * grad_w\n",
    "        b += -param_delta * grad_b\n",
    "    return (w, b)\n",
    "\n",
    "# sample data set\n",
    "X = np.array([[2,2], [3,3], [4,1], [5,3], [2,5], [2,7], [3,5], [3,6], [5,7]])\n",
    "y = np.array([0,0,0,0,1,1,1,1,1])\n",
    "plt.scatter(X[:,0], X[:,1], c=y)\n",
    "plt.xticks(range(1,7))\n",
    "plt.yticks(range(0,9))\n",
    "plt.show()\n",
    "\n",
    "w, b = binlogreg_train(X, y)\n",
    "print('w',w)\n",
    "print('b',b)\n",
    "\n",
    "h=np.dot(X,w.transpose())+b\n",
    "print('h',h)\n",
    "def sigma(x):\n",
    "    return 1/(1+np.exp(x))\n",
    "print('sigma',sigma(h))\n",
    "print(y)"
   ]
  },
  {
   "cell_type": "markdown",
   "metadata": {},
   "source": [
    "Implement the function `binlogreg_classify` which takes in a set of data points and classifies using logistic regression parameters. Have the function have the following interface: "
   ]
  },
  {
   "cell_type": "code",
   "execution_count": 347,
   "metadata": {},
   "outputs": [
    {
     "name": "stdout",
     "output_type": "stream",
     "text": [
      "classes:\n",
      "estim.\torig.\n",
      "0.979\t0\n",
      "0.981\t0\n",
      "1.000\t0\n",
      "1.000\t0\n",
      "0.000\t1\n",
      "0.000\t1\n",
      "0.008\t1\n",
      "0.000\t1\n",
      "0.011\t1\n"
     ]
    }
   ],
   "source": [
    "def sigma(x):\n",
    "    return 1.0/(1+np.exp(x))\n",
    "    \n",
    "def binlogreg_classify(X, w, b):\n",
    "    '''\n",
    "      Arguments\n",
    "          X:    data, np.array NxD\n",
    "          w, b: logistic regression parameters\n",
    "\n",
    "      Return values\n",
    "          probs: a posteriori probabilities for c1, dimensions Nx1\n",
    "    '''\n",
    "    #P(Y=c_1|x)=σ(w⊤x+b), where σ(s)=exp(s)/(1+exp(s))\n",
    "    s = np.dot(X, w)+b\n",
    "    return sigma(s)\n",
    "    \n",
    "\n",
    "print('classes:\\nestim.\\torig.')\n",
    "for i, v in enumerate(binlogreg_classify(X, w, b)):\n",
    "    print('{:.3f}\\t{}'.format(v, y[i]))"
   ]
  },
  {
   "cell_type": "markdown",
   "metadata": {},
   "source": [
    "Implement the function `sample_gauss_2d(C, N)` which creates `C` Gaussian random distributions, and from each created distribution samples N data points. The function should return the matrix X with dimensions `(C·N)x2` where the rows correspond to the sampled data points, and the matrix of true classes Y with dimensions `(C·N)x2` which contains indices of the classes to which the corresponding points belong. For example, if the i-th row of `X` was sampled from the j-th distribution, then the following must hold: `Y[i,0]==j`. "
   ]
  },
  {
   "cell_type": "code",
   "execution_count": 348,
   "metadata": {},
   "outputs": [
    {
     "name": "stdout",
     "output_type": "stream",
     "text": [
      "X.shape (45, 2)\n",
      "Y.shape (45,)\n"
     ]
    },
    {
     "data": {
      "image/png": "[encoded data removed]",
      "text/plain": [
       "<matplotlib.figure.Figure at 0x13bff7b8>"
      ]
     },
     "metadata": {},
     "output_type": "display_data"
    }
   ],
   "source": [
    "def sample_gauss_2d(C, N):\n",
    "    '''\n",
    "    C - number of classes\n",
    "    N - number of data points assigned to specific class\n",
    "    '''\n",
    "    distributions = []\n",
    "    for i in range(C):\n",
    "        distributions.append(Random2DGaussian())\n",
    "    \n",
    "    X = np.vstack([d.get_sample(N) for d in distributions])\n",
    "    Y_= np.random.randint(0, C, C*N)\n",
    "\n",
    "    return X,Y_\n",
    "\n",
    "X, Y = sample_gauss_2d(3,15)\n",
    "print('X.shape', X.shape)\n",
    "print('Y.shape', Y.shape)\n",
    "plt.scatter(X[:,0], X[:,1], c=Y)\n",
    "plt.show()\n",
    "\n"
   ]
  },
  {
   "cell_type": "markdown",
   "metadata": {},
   "source": [
    "Implement the function `eval_perf_binary(Y,Y_)` which takes in true classes and predicted classes and determines quantitative measures for evaluating classifier performance: accuracy, precision and recall. You can get these values by using the number of true positives (TP), true negatives (TN), false positives (FP) and false negatives (FN). "
   ]
  },
  {
   "cell_type": "code",
   "execution_count": 349,
   "metadata": {
    "collapsed": true
   },
   "outputs": [],
   "source": [
    "def eval_perf_binary(Y,Y_):\n",
    "    tp = sum(np.logical_and(Y==Y_, Y_==True))\n",
    "    fn = sum(np.logical_and(Y!=Y_, Y_==True))\n",
    "    tn = sum(np.logical_and(Y==Y_, Y_==False))\n",
    "    fp = sum(np.logical_and(Y!=Y_, Y_==False))\n",
    "    recall = tp / (tp + fn)\n",
    "    precision = tp / (tp + fp)\n",
    "    accuracy = (tp + tn) / (tp+fn + tn+fp)\n",
    "    return accuracy, recall, precision"
   ]
  },
  {
   "cell_type": "markdown",
   "metadata": {},
   "source": [
    "Implement the function `eval_AP` which calculates the [average precision](https://en.wikipedia.org/wiki/Information_retrieval#Average_precision) of binary classification. The function takes in an array of true classes $Y_r$ which we get by sorting the matrix of true classes $Y$ using a posteriori probabilities $P(c_1|x)$. You can use `numpy` method `argsort` for sorting $Y$ to get $Y_r$. Average precision is calculated using the following expression: $AP=\\frac{\\sum^{N-1}_{i=0}{Precision(i) \\cdot Y_{ri}}}{\\sum^{N-1}_{i=0}{Y_{ri}}}$.\n",
    "\n",
    "$Precision(i)$ is the precision you get if the data with index greater or equal to $i$ gets sorted to the class $c_1$ and the data with the index less than i gets sorted into the class $c_0$. Your function should have the following behaviour:\n",
    "\n",
    "```\n",
    ">>> import data\n",
    ">>> data.eval_AP([0,0,0,1,1,1])\n",
    "1.0\n",
    ">>> data.eval_AP([0,0,1,0,1,1])\n",
    "0.9166666666666666\n",
    ">>> data.eval_AP([0,1,0,1,0,1])\n",
    "0.7555555555555555\n",
    ">>> data.eval_AP([1,0,1,0,1,0])\n",
    "0.5\n",
    "```"
   ]
  },
  {
   "cell_type": "code",
   "execution_count": 350,
   "metadata": {},
   "outputs": [
    {
     "name": "stdout",
     "output_type": "stream",
     "text": [
      "data.eval_AP([0, 0, 0, 1, 1, 1]] = 1.0, expected = 1.0\n",
      "data.eval_AP([0, 0, 1, 0, 1, 1]] = 0.9166666666666666, expected = 0.9166666666666666\n",
      "data.eval_AP([0, 1, 0, 1, 0, 1]] = 0.7555555555555555, expected = 0.7555555555555555\n",
      "data.eval_AP([1, 0, 1, 0, 1, 0]] = 0.5, expected = 0.5\n"
     ]
    }
   ],
   "source": [
    "def _precision(Y, i):\n",
    "    class_as_one = Y[i:]\n",
    "    tp = (class_as_one == 1).sum()\n",
    "    fp = (class_as_one == 0).sum()\n",
    "    return tp / (tp + fp)\n",
    "\n",
    "def eval_AP(Yr):\n",
    "    Yr = np.array(Yr)\n",
    "    return np.sum(_precision(Yr, i)*Yr[i] for i in range(len(Yr))) / np.sum(Yr)\n",
    "\n",
    "\n",
    "data = (([0,0,0,1,1,1], 1.0), ([0,0,1,0,1,1], 0.9166666666666666), ([0,1,0,1,0,1], 0.7555555555555555), ([1,0,1,0,1,0], 0.5))\n",
    "for v in data:\n",
    "    print('data.eval_AP({}] = {}, expected = {}'.format(v[0], eval_AP(v[0]), v[1]))"
   ]
  },
  {
   "cell_type": "markdown",
   "metadata": {},
   "source": [
    "Write a test for the module `binlogreg.py`. You can get your training set using `sample_gauss_2d`. After that call the training method and us the return parameters for classifying the training data. Convert the probabilities to get actual class predictions `Y` (try to do this without using a loop). Evaluate the performance of your classifier using `eval_perf_binary` and `eval_AP`."
   ]
  },
  {
   "cell_type": "code",
   "execution_count": 351,
   "metadata": {},
   "outputs": [
    {
     "name": "stdout",
     "output_type": "stream",
     "text": [
      "iteration 0: loss 1.6331115827438902\n",
      "iteration 100: loss 5.772971121507562\n",
      "iteration 200: loss 13.708478473626528\n",
      "iteration 300: loss 9.123240050600781\n",
      "iteration 400: loss 14.287563015111202\n",
      "iteration 500: loss 7.030939413783024\n",
      "iteration 600: loss 13.637264357486524\n",
      "iteration 700: loss 7.9204991462089\n",
      "iteration 800: loss 11.922894116811321\n",
      "iteration 900: loss 6.587416568316513\n",
      "iteration 1000: loss 14.389990397574671\n",
      "0.45 0.75 0.45569620253164556 0.48569416657277564\n"
     ]
    }
   ],
   "source": [
    "if __name__==\"__main__\":\n",
    "    np.random.seed(100)\n",
    "\n",
    "    # get the training dataset\n",
    "    X,Y_ = sample_gauss_2d(2, 50)\n",
    "\n",
    "    # train the model\n",
    "    w,b = binlogreg_train(X, Y_)\n",
    "\n",
    "    # evaluate the model on the training dataset\n",
    "    probs = binlogreg_classify(X, w,b)\n",
    "    Y = np.array([1 if x>0.5 else 0 for x in probs])\n",
    "\n",
    "    # report performance\n",
    "    accuracy, recall, precision = eval_perf_binary(Y, Y_)\n",
    "    AP = eval_AP(Y_[probs.argsort()])\n",
    "    print (accuracy, recall, precision, AP)"
   ]
  },
  {
   "cell_type": "markdown",
   "metadata": {
    "collapsed": true
   },
   "source": [
    " If you cannot get 100% accuracy, try to find an explanation.\n",
    "\n",
    "When you are satisfied that your implementation works, store your code into `binlogreg.py`. You should put the methods `sample_gauss_2d`, `eval_AP` and `eval_perf_binary` into the `data.py` module.\n",
    "\n",
    "For those who want to do more:\n",
    "\n",
    "- Perform gradient checking, that is to say check if the analytical gradients match their numerical approximations.\n",
    "- Add regularization loss using L2 norm. In this case the modification to w is equal to the weight w multiplied with the hyperparameter param_lambda. The bias b needs not be regularized in most of the cases.s Don't forget to apply the modification to w.\n",
    "- Experiment with different values of training hyperparameters param_niter, param_delta and param_lambda. Try to find a hyperparameter combination for which your implementation doesn't work. Try to explain why the solution doesn't work with those values.\n",
    "- Try to find a way to visualize the loss function and the the optimization process itself.\n",
    "- Try to determine the bias and the variance of your optimizer by performing multiple experiments on a test set. You can get the test set by sampling it from the same distribution from which the training set was sampled. Try to come up with a data distribution for which the classifier bias will be large. \n",
    "\n",
    "# 3. Visualizing the classification results\n",
    "\n",
    "You can download the solution of this exercise [here](http://www.zemris.fer.hr/~ssegvic/du/src/data.py).\n",
    "\n",
    "Implement the function `graph_data` which is used for visualizing the results of the binary classification of 2D data points. Have it implement the following interface:\n",
    "```python\n",
    "'''\n",
    "  X  ... data (np. array Nx2)\n",
    "  Y_ ... true classes (np.array Nx1)\n",
    "  Y  ... predicted classes (np.array Nx1)\n",
    "'''\n",
    "```\n",
    "Steps:\n",
    "\n",
    "- Use plt.scatter to plot data. Use named arguments c and marker to cwspecify the colour, size and shape of the symbol used for representing data points\n",
    "- Use colour to distinguish the two groundtruth classes: grey for class 0 and white for class 1\n",
    "- Use circles to indicate the data points which were classified correctly (Y_==Y), and squares for indicating which data points were classified incorrectly. To avoid using loops in python, you can call plt.scatter twice - once for correctly classified data and one for incorrectly classified data. \n"
   ]
  },
  {
   "cell_type": "code",
   "execution_count": 352,
   "metadata": {
    "collapsed": true
   },
   "outputs": [],
   "source": [
    "import matplotlib as mpl\n",
    "def graph_data(X, Y_, Y):\n",
    "    '''\n",
    "    X  - data (np. array Nx2)\n",
    "    Y_ - true classes (np.array Nx1)\n",
    "    Y  - predicted classes (np.array Nx1)\n",
    "    '''\n",
    "    \n",
    "    correct = Y_ == Y\n",
    "    wrong = Y_ != Y\n",
    "    \n",
    "    plt.scatter(X[correct, 0], X[correct, 1], marker='o',\n",
    "                c=['white' if x else 'grey' for x in Y_[correct]], edgecolors='black')\n",
    "    plt.scatter(X[wrong, 0], X[wrong, 1], marker='s',\n",
    "                c=['white' if x else 'grey' for x in Y_[wrong]], edgecolors='black')"
   ]
  },
  {
   "cell_type": "markdown",
   "metadata": {},
   "source": [
    "Test your code using data sampled from 2 random distributions. For this initial testing you can get predicted classes `Y` using a dummy classifier e.g.:"
   ]
  },
  {
   "cell_type": "code",
   "execution_count": 353,
   "metadata": {
    "collapsed": true
   },
   "outputs": [],
   "source": [
    "def myDummyDecision(X):\n",
    "    scores = X[:,0] + X[:,1] - 5\n",
    "    return scores"
   ]
  },
  {
   "cell_type": "markdown",
   "metadata": {},
   "source": [
    "Your test could now look something like this:"
   ]
  },
  {
   "cell_type": "code",
   "execution_count": 354,
   "metadata": {},
   "outputs": [
    {
     "data": {
      "image/png": "[encoded data removed]",
      "text/plain": [
       "<matplotlib.figure.Figure at 0x1635e3c8>"
      ]
     },
     "metadata": {},
     "output_type": "display_data"
    }
   ],
   "source": [
    "np.random.seed(100)\n",
    "\n",
    "# get the training dataset\n",
    "X,Y_ = sample_gauss_2d(2, 100)\n",
    "\n",
    "# get the class predictions\n",
    "Y = myDummyDecision(X)>0.5\n",
    "\n",
    "# graph the data points\n",
    "graph_data(X, Y_, Y) \n",
    "\n",
    "# show the results\n",
    "plt.show()"
   ]
  },
  {
   "cell_type": "markdown",
   "metadata": {},
   "source": [
    "# 4. Plotting the decision function\n",
    "\n",
    "You can download the solution of this exercise [here](http://www.zemris.fer.hr/~ssegvic/du/src/data.py).\n",
    "\n",
    "In practice the decision function of a classifier does not return the predicted class for the given data point as was the case with our `myDummyDecision`. For example, the decision function for the support vector machine returns classification score. The sign of the result determines the predicted class, while the border between the classed is a plane for which every pint has the classification score of zero. The binary logistic regression returns the a posteriori probability $P(Y=c_1|x)$. If that probability is greater than $0.5$, the classifier classifies the input into $c_1$. The border between the classes is a plane/line for which every point has the probability of $0.5$. The same interpretation can be given for decision function of deep models, but they can, unlike logistic regression, model non-linear borders between classes. The decision function of these classifiers can be visualised, that is qualitatively evaluated.\n",
    "\n",
    "That is why we will now implement a way to visualize the decision function. The goal is to implement a method `graph_surface` which plots the surface of a scalar-valued function of 2D data. We will use this method to plot decision functions of our classifiers which work with 2D data. The interface of `graph_surface` should be the following: \n",
    "\n",
    "```python\n",
    "'''\n",
    "  fun    ... the decision function (Nx2)->(Nx1)\n",
    "  rect   ... he domain in which we plot the data:\n",
    "             ([x_min,y_min], [x_max,y_max])\n",
    "  offset ... the value of the decision function\n",
    "             on the border between the classes;\n",
    "             we typically have:\n",
    "             offset = 0.5 for probabilistic models\n",
    "                (e.g. logistic regression)\n",
    "             offset = 0 for models which do not squash \n",
    "                classification scores (e.g. SVM)\n",
    "  width,height ... rezolucija koordinatne mreže\n",
    "'''\n",
    "```\n",
    "\n",
    "\n",
    "Similarly to `graph_data` we will rely on [matplotlib](http://matplotlib.org/mpl_toolkits/mplot3d/tutorial.html#surface-plots) to visualize the decision function. To spare the caller from knowing what happens when plotting the function, we will pass the decision function `fun` to the method `graph_surface` (if you are familiar with design patterns, this is an example of Strategy). The function `fun` takes in the data and returns the predicted class for the given data. This will be wrapper for the classifier whose decision function we want to visualize. To avoid the need for multiple loops, the function should take in a data matrix with dimensions NxD and return a vector containing classification scores with the dimensions Nx1. The `rect` argument determines the part of the space on for which we are visualizing the decision function. In practice this range depends on the range of our data points: there is no need to visualize the decision plane somewhere where there are no training data. `graph_surface` should also take `offset` which determines the value of the decision function on the border between classes. For probabilistic models this value is 0.5, while for models that maximize the margin that value is 0. Finally, `graph_surface` should also take the dimensions of the coordinate plane which defines the resolution of the visualization.\n",
    "\n",
    "Planes are plotted in `matplotlib` using `np.meshgrid` and `plt.pcolormesh` (you can see usage examples [here](http://stackoverflow.com/questions/14741771/how-to-arrange-the-data-for-a-heatmap-pcolormesh) in official `matplotlib` [dokumentation](http://matplotlib.org/api/pyplot_api.html#matplotlib.pyplot.pcolormesh)). The procedure is not completely self explanatory so we elaborate more thoroughly: \n",
    "\n",
    "\n",
    "- Make 1D coordinate range for the resolution `width×height` within the given rectangle `rect` using `np.linspace` (or `np.arange`).\n",
    "- Make a 2D coordinate plane using `np.meshgrid`.\n",
    "- Represent the points of the coordinate plane with a matrix with dimensions of Nx2. We need this step to be able to use the points of the coordinate plane as arguments of the decision function. Use `flatten` and `np.stack`\n",
    "- Input the points of the coordinate plane into the decision function to get its values for every point of the decision plane. Convert the output values into a format needed by the function `plt.pcolormesh` using `reshape`.\n",
    "- Plot the function using `plt.pcolormesh`. Use the argumens `vmin` and `vmax` to centre the colour palette around the `offset` value.\n",
    "- Plot the decision border, that is the line for which all of the points have the value equal to `offset`. Use black colour. \n",
    "\n"
   ]
  },
  {
   "cell_type": "code",
   "execution_count": 355,
   "metadata": {
    "collapsed": true
   },
   "outputs": [],
   "source": [
    "def graph_surface(fun, rect, offset, width=250, height=250):\n",
    "    '''\n",
    "      fun    ... the decision function (Nx2)->(Nx1)\n",
    "      rect   ... he domain in which we plot the data:\n",
    "                 ([x_min,y_min], [x_max,y_max])\n",
    "      offset ... the value of the decision function\n",
    "                 on the border between the classes;\n",
    "                 we typically have:\n",
    "                 offset = 0.5 for probabilistic models\n",
    "                    (e.g. logistic regression)\n",
    "                 offset = 0 for models which do not squash \n",
    "                    classification scores (e.g. SVM)\n",
    "      width,height ... rezolucija koordinatne mreže\n",
    "    '''\n",
    "    (x_min, y_min), (x_max, y_max) = rect\n",
    "    xx, yy = np.meshgrid(np.linspace(x_min, x_max, width), np.linspace(y_min, y_max, height))\n",
    "    XX = np.c_[xx.ravel(), yy.ravel()]\n",
    "    \n",
    "    Z = fun(XX).reshape(xx.shape)\n",
    "    \n",
    "    delta = np.abs(Z-offset).max() \n",
    "    #plt.pcolormesh(xx, yy, Z, vmin=offset-delta, vmax=offset+delta)\n",
    "    plt.pcolormesh(xx, yy, Z, vmin=offset-delta, vmax=offset+delta)\n",
    "    plt.contour(xx, yy, Z, levels=[offset])\n"
   ]
  },
  {
   "cell_type": "markdown",
   "metadata": {},
   "source": [
    "Here is an example of a call to `graph_surface` for plotting the decision plane of `myDummyDecision`:\n",
    "```python\n",
    "bbox=(np.min(X, axis=0), np.max(X, axis=0))\n",
    "graph_surface(myDummyDecision, bbox, offset=0)\n",
    "```\n",
    "If we input this slice of code immediately before calling `graph_data` in `data.py`, we will see the decision plane indicated in rainbow colours, as well as a black line representing the decision border. The white points above the border is white and circular because these points have been correctly classified by `myDummyClassifier`, while the white points below the border are squared because they have been incorrectly classified by `myDummyClassifier`.\n",
    "\n"
   ]
  },
  {
   "cell_type": "markdown",
   "metadata": {},
   "source": [
    "\n",
    "# 5. Visualization of binary logistic regression\n",
    "\n",
    "Now we have almost all of the elements needed for fully implementing binary logistic regression. What is left to implement is a function appropriate as a `fun` argument of `graph_surface`. In the case of binary logistic regression, this function should take in data matrix X, and return a vector of a posteriori probabilities for class c1. The function `binlogreg_classify` seems like an appropriate candidate, the only problem being that it has two extra arguments (`w` and `b`). In programming languaes with static functions this would pose a challenge, however in Python a closure function can be used. A closure function in this case would look like this:\n",
    "\n",
    "\n"
   ]
  },
  {
   "cell_type": "code",
   "execution_count": 356,
   "metadata": {
    "collapsed": true
   },
   "outputs": [],
   "source": [
    "def binlogreg_decfun(X,w,b):\n",
    "    def classify(X):\n",
    "        return binlogreg_classify(X, w,b)\n",
    "    return classify"
   ]
  },
  {
   "cell_type": "markdown",
   "metadata": {},
   "source": [
    "\n",
    "`binlogreg_decfun` function returns a local function which remembers the context (`w` and `b`). This local function can be used as an argument of `graph_surface` (if you are familiar with design patterns, this would be the Decorator pattern. You can achieve the same goal using lambda functions (try to do it as an exercise). If you are a beginner in Python we advise you to start slowly and familiarize yourself with context functions first, befor working with lambda expressions.\n",
    "\n",
    "The code for the binary logistic regression test would have the following steps:"
   ]
  },
  {
   "cell_type": "code",
   "execution_count": 357,
   "metadata": {},
   "outputs": [
    {
     "name": "stdout",
     "output_type": "stream",
     "text": [
      "iteration 0: loss 1.6331115827438902\n",
      "iteration 10: loss 15.162243466374939\n",
      "iteration 20: loss 8.217983654998461\n",
      "iteration 30: loss 10.03259165881931\n",
      "iteration 40: loss 15.510242510938097\n",
      "iteration 50: loss 13.940169397839457\n",
      "iteration 60: loss 10.171487786278973\n",
      "iteration 70: loss 14.827017542157714\n",
      "iteration 80: loss 12.033954651244528\n",
      "iteration 90: loss 11.559109451235686\n",
      "iteration 100: loss 5.772971121507562\n",
      "0.6 0.625 0.5769230769230769 0.5526325637408595\n"
     ]
    },
    {
     "data": {
      "image/png": "[encoded data removed]",
      "text/plain": [
       "<matplotlib.figure.Figure at 0x14a03f28>"
      ]
     },
     "metadata": {},
     "output_type": "display_data"
    }
   ],
   "source": [
    "# instantiate the dataset\n",
    "np.random.seed(100)\n",
    "X, Y_ = sample_gauss_2d(2, 50)\n",
    "\n",
    "# train the logistic regression model\n",
    "w, b = binlogreg_train(X, Y_, param_niter=100)\n",
    "\n",
    "# evaluate the model on the train set\n",
    "probs = binlogreg_classify(X, w,b)\n",
    "\n",
    "# recover the predicted classes Y\n",
    "Y = np.array(probs > 0.5, dtype=int)\n",
    "\n",
    "# evaluate and print performance measures\n",
    "accuracy, recall, precision = eval_perf_binary(Y, Y_)\n",
    "AP = eval_AP(Y_[probs.argsort()])\n",
    "print (accuracy, recall, precision, AP)\n",
    "\n",
    "# graph the decision surface\n",
    "decfun = binlogreg_decfun(X, w,b)\n",
    "bbox=(np.min(X, axis=0), np.max(X, axis=0))\n",
    "graph_surface(decfun, bbox, offset=0.5)\n",
    "\n",
    "# graph the data points\n",
    "decfun = binlogreg_decfun(X, w,b)\n",
    "graph_data(X, Y_, Y)\n",
    "\n",
    "# show the plot\n",
    "plt.show()"
   ]
  },
  {
   "cell_type": "markdown",
   "metadata": {},
   "source": [
    "# 6. Multinomial logistic regression\n",
    "\n",
    "The final task of the first laboratory exercise is to implement logistic regression which can classify data into any number of classes. You need to implement `logreg_train` that should take in data matrix `X` and a matrix of true class indices `Y_`. The function returns the logistic regression parameters `W` and `b`. The dimensions of those parameters depend on the number of classes `C` which can be determined with the expression `max(Y_) + 1`.\n",
    "\n",
    "The gradient descent loop should look something like this:"
   ]
  },
  {
   "cell_type": "code",
   "execution_count": 398,
   "metadata": {
    "scrolled": true
   },
   "outputs": [
    {
     "name": "stdout",
     "output_type": "stream",
     "text": [
      "iteration 0: loss 2.695775894479042\n",
      "iteration 100: loss 0.33553138490697154\n",
      "iteration 200: loss 0.192882196837125\n",
      "iteration 300: loss 0.13359415533940888\n",
      "iteration 400: loss 0.10119137844014427\n",
      "iteration 500: loss 0.08098773864158339\n",
      "iteration 600: loss 0.06728935541335962\n",
      "iteration 700: loss 0.0574383303599883\n",
      "iteration 800: loss 0.05003737783351281\n",
      "iteration 900: loss 0.04428630121613761\n"
     ]
    },
    {
     "data": {
      "image/png": "[encoded data removed]",
      "text/plain": [
       "<matplotlib.figure.Figure at 0x1378e400>"
      ]
     },
     "metadata": {},
     "output_type": "display_data"
    }
   ],
   "source": [
    "def logreg_train(X,Y_, param_niter=1000, param_delta=0.1):\n",
    "    '''\n",
    "    Arguments\n",
    "        X:  data, np.array NxD\n",
    "        Y_: class indices, np.array Nx1\n",
    "    Return values\n",
    "        w, b: parameters of binary logistic regression\n",
    "    '''\n",
    "\n",
    "    C = max(Y_)+1 # number of classes\n",
    "    w = np.array([np.random.randn(X.shape[1]) for i in range(C)]) # weights == columns == number of features # CxD\n",
    "    b = np.array([0.0 for i in range(C)]) # Cx1\n",
    "    \n",
    "    # gradient descent (param_niter iteratons)\n",
    "    for i in range(param_niter):\n",
    "        # classification scores size = NxC\n",
    "        #    classes:\n",
    "        #    c1 c2 c3 ...\n",
    "        # n1\n",
    "        # n2\n",
    "        # n3 ...\n",
    "        scores = np.dot(X, w.transpose())+b # NxC\n",
    "        expscores = np.exp(scores) # NxC\n",
    "        sumexp = expscores.sum(axis=1) # Nx1\n",
    "\n",
    "        # calculate probabilities: exp(s_j)/sum(exp(s)) -> sum(exp) - is sum of numbers in area of one class\n",
    "        probs = (expscores.transpose() / sumexp).transpose() # NxC\n",
    "        logprobs = np.log(probs) # NxC\n",
    "\n",
    "        # loss\n",
    "        loss = sklearn.metrics.log_loss(Y_, probs)# scalar\n",
    "        # trace\n",
    "        if i % int(param_niter/10) == 0:\n",
    "            print(\"iteration {}: loss {}\".format(i, loss))\n",
    "\n",
    "        # derivative of the loss funciton with respect to classification scores\n",
    "        dL_dscores2 = np.array([(probs - Y_) for probs in probs.transpose()]) # N x C\n",
    "        dL_dscores = probs   # N x C\n",
    "        dL_dscores[range(len(X)),Y_] -= 1\n",
    "\n",
    "        # gradijents with respect to parameters\n",
    "        # X.shape[0] - number of features\n",
    "        grad_w = 1/(X.shape[0]) * np.dot(dL_dscores.transpose(), X) # D x C\n",
    "        grad_b = 1/(X.shape[0]) * dL_dscores.sum(axis=0) # 1 x C\n",
    "\n",
    "        # modifying the parameters\n",
    "        w += -param_delta * grad_w\n",
    "        b += -param_delta * grad_b\n",
    "    return (w, b)\n",
    "\n",
    "def logreg_classify(X, w, b):\n",
    "    '''\n",
    "    Parameters\n",
    "    ----------\n",
    "    X : 2-D array_like, of shape (N, 2)\n",
    "        data\n",
    "    w : 2-D array_like, of shape (C, 2)\n",
    "        array of weights for each feature\n",
    "    b: 1-D array like of length C\n",
    "        bias parameter\n",
    "\n",
    "    Returns\n",
    "    -------\n",
    "    probs : 2-D array_like, of shape (N, C)\n",
    "        probability of classes for each sample in X\n",
    "    '''\n",
    "    \n",
    "    scores = np.dot(X, w.transpose()) + b    # N x C\n",
    "    expscores = np.exp(scores)    # N x C\n",
    "\n",
    "    sumexp = expscores.sum(axis=1)    # N x 1\n",
    "    return (expscores.transpose() / sumexp).transpose() \n",
    "\n",
    "def logreg_decfun(X, W, b):\n",
    "    def classify(X):\n",
    "        return logreg_classify(X, W, b).argmax(axis=1)\n",
    "    return classify\n",
    "\n",
    "# instantiate the dataset\n",
    "np.random.seed(110)\n",
    "#X, Y_ = sample_gauss_2d(3, 1)\n",
    "X=np.array([[1,3],[1,1],[3,2], [3,3]]);Y_=np.array([1,0,2,2])\n",
    "#X=np.array([[1,1],[2,2]]);Y_=np.array([1,0])\n",
    "\n",
    "# train the logistic regression model\n",
    "w, b = logreg_train(X, Y_, param_niter=1000)\n",
    "\n",
    "probs = logreg_classify(X, w, b)\n",
    "Y = np.argmax(probs, axis=1)\n",
    "\n",
    "# graph the decision surface\n",
    "decfun = logreg_decfun(X, w, b)\n",
    "bbox=(np.min(X, axis=0), np.max(X, axis=0))\n",
    "\n",
    "graph_surface(decfun, bbox, offset=0.5)\n",
    "for p in X:\n",
    "    plt.scatter(p[0], p[1])\n",
    "\n",
    "plt.show()"
   ]
  },
  {
   "cell_type": "markdown",
   "metadata": {},
   "source": [
    "Implement the function `logreg_classify` which returns the matrix of dimensitons NxC where each row i contains a posteriori probabilities of possible classes $cj, j∈{0,1,...,C−1}$, for each given data point $x_i$.\n"
   ]
  },
  {
   "cell_type": "code",
   "execution_count": 426,
   "metadata": {
    "collapsed": true
   },
   "outputs": [],
   "source": [
    "def logreg_classify():\n",
    "    pass"
   ]
  },
  {
   "cell_type": "markdown",
   "metadata": {},
   "source": [
    "Implement the function `eval_perf_multi(Y,Y_)` which takes-in indices of true classes and indices of predicted classes and based on that calculates: total classification accuracy, [confusion matrix](https://en.wikipedia.org/wiki/Confusion_matrix) (in which the rows represent the true classes and the columns represent the predicted classes) and vectors of precision and recall for [each](http://stats.stackexchange.com/questions/51296/how-to-calculate-precision-and-recall-for-multiclass-classification-using-confus) class. We recommend first calcualting the confusion matrix which you can then use to calculate other measures.\n"
   ]
  },
  {
   "cell_type": "code",
   "execution_count": 427,
   "metadata": {
    "collapsed": true
   },
   "outputs": [],
   "source": [
    "def eval_perf_multi(Y,Y_):\n",
    "    pass"
   ]
  },
  {
   "cell_type": "markdown",
   "metadata": {},
   "source": [
    "Implement a decorator for `logreg_classify` which you will pass as an argument to `graph_surface`. to visualize what the classifier has trained. There are several ways to visualize the decision function:\n",
    "\n",
    "- showing probabilities for each point of the plane for one class\n",
    "- showing maximum probability of classification regardless of class\n",
    "- showing the class which has the highest a posteriori probability. \n",
    "\n",
    "To test your classifier start with only 2 classes. You should get similar results to the binary classifier. After that, try adding one more class and sampling additional data from the third distribution. Take into account that data from each distribution should be marked as belonging to a separate class."
   ]
  }
 ],
 "metadata": {
  "kernelspec": {
   "display_name": "Python 3",
   "language": "python",
   "name": "python3"
  },
  "language_info": {
   "codemirror_mode": {
    "name": "ipython",
    "version": 3
   },
   "file_extension": ".py",
   "mimetype": "text/x-python",
   "name": "python",
   "nbconvert_exporter": "python",
   "pygments_lexer": "ipython3",
   "version": "3.6.2"
  }
 },
 "nbformat": 4,
 "nbformat_minor": 2
}
